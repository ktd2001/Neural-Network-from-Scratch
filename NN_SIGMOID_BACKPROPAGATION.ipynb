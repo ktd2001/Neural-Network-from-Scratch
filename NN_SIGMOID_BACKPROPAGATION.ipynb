{
 "cells": [
  {
   "cell_type": "code",
   "execution_count": null,
   "metadata": {},
   "outputs": [],
   "source": [
    "# Keiana Dunn\n",
    "# Neural Network - Back propagation - Sigmoid Activation Function\n",
    "# Objective: Locate the \"best\" values for weights and bias with the help of \n",
    "# back propagation. The NN uses a learning rate to learn how to  Create code takes \n",
    "# 5 feature values and computes two targets based on random values for all weights \n",
    "# and biases and gives the user the option of choosing either a RELU or a sigmoid \n",
    "# function. Computation of the targets is in its own Python function and accept the \n",
    "# five features and all weights and biases as input and are output of the targets.\n"
   ]
  },
  {
   "cell_type": "code",
   "execution_count": 1,
   "metadata": {},
   "outputs": [],
   "source": [
    "import autograd.numpy as np\n",
    "from autograd import grad\n",
    "import matplotlib.pyplot as plt"
   ]
  },
  {
   "cell_type": "markdown",
   "metadata": {},
   "source": [
    "Definitions for Feedforward, Loss and Activation functions "
   ]
  },
  {
   "cell_type": "code",
   "execution_count": 2,
   "metadata": {},
   "outputs": [],
   "source": [
    "#Definitions for Feedforward and Loss \n",
    "def FF(features,weights_in_hidden1,bias1,weights_in_hidden2,bias2,weights_in_out,bias_out):    \n",
    "    neuron_value_layer2 = sigmoid((np.matmul(features, weights_in_hidden1))+ bias1.T)   \n",
    "    #print('neuron_value_layer2R shape', neuron_value_layer2R.shape)\n",
    "    #print('neuron_value_layer2R')\n",
    "    #print(neuron_value_layer2R)\n",
    "    #print('  ')\n",
    "    neuron_value_layer3 = sigmoid((np.matmul(neuron_value_layer2, weights_in_hidden2))+ bias2.T)\n",
    "    #print('neuron_value_layer3R')\n",
    "    #print(neuron_value_layer3R)\n",
    "    #print('  ')\n",
    "    neuron_value_layer_output = sigmoid((np.matmul(neuron_value_layer3, weights_in_out))+ bias_out.T)\n",
    "    #print('neuron_value_layer_outputR')\n",
    "    #print(neuron_value_layer_outputR)\n",
    "    #print('  ')  \n",
    "    return neuron_value_layer_output\n",
    "\n",
    "def loss(features,targets_observed,weights_in_hidden1,bias1,weights_in_hidden2,bias2,weights_in_out,bias_out):    \n",
    "    neuron_value_layer2 = sigmoid((np.matmul(features, weights_in_hidden1))+ bias1.T)   \n",
    "    #print('neuron_value_layer2R shape', neuron_value_layer2R.shape)\n",
    "    #print('neuron_value_layer2R')\n",
    "    #print(neuron_value_layer2R)\n",
    "    #print('  ')\n",
    "    neuron_value_layer3 = sigmoid((np.matmul(neuron_value_layer2, weights_in_hidden2))+ bias2.T)\n",
    "    #print('neuron_value_layer3R')\n",
    "    #print(neuron_value_layer3R)\n",
    "    #print('  ')\n",
    "    neuron_value_layer_output = relu((np.matmul(neuron_value_layer3, weights_in_out))+ bias_out.T)\n",
    "    #print('neuron_value_layer_outputR')\n",
    "    #print(neuron_value_layer_outputR)\n",
    "    #print('  ')  \n",
    "    return np.sum((targets_observed-neuron_value_layer_output)**2)\n",
    "\n",
    "#====================================================\n",
    "\n",
    "# Define Sigmoid and ReLU activation target function\n",
    "\n",
    "# Rectified Linear Unit (ReLU) used there is a matrix-vector product\n",
    "def relu(x):\n",
    "    return np.maximum(x,0)\n",
    "\n",
    "\n",
    "# Calculate Sigmoid to get output values in a range of 0 to 1\n",
    "def sigmoid(x):\n",
    "    return 1 / (1 + np.exp(-x))\n",
    " \n",
    "#====================================================="
   ]
  },
  {
   "cell_type": "code",
   "execution_count": 3,
   "metadata": {},
   "outputs": [
    {
     "name": "stdout",
     "output_type": "stream",
     "text": [
      "[0. 1.] [[0.59167731 0.64799519]]\n",
      "[0. 1.] [[0.59273113 0.64842998]]\n",
      "[0. 1.] [[0.59372661 0.64908489]]\n",
      "[0. 1.] [[0.59473069 0.64950654]]\n",
      "[0. 1.] [[0.5956568  0.64976087]]\n",
      "[0. 1.] [[0.59583691 0.64995739]]\n",
      "[0. 1.] [[0.59539695 0.64964053]]\n",
      "[0. 1.] [[0.59462994 0.64921359]]\n",
      "[0. 1.] [[0.59292468 0.64889362]]\n",
      "[0. 1.] [[0.59389328 0.64942379]]\n",
      "[0. 1.] [[0.59488302 0.64975111]]\n",
      "[0. 1.] [[0.59527078 0.64967842]]\n",
      "[0. 1.] [[0.59505949 0.6494014 ]]\n",
      "[0. 1.] [[0.59403005 0.64904082]]\n",
      "[1. 0.] [[0.59538173 0.64992972]]\n",
      "[1. 0.] [[0.59569434 0.64988989]]\n",
      "[1. 0.] [[0.594856   0.64963449]]\n",
      "[1. 0.] [[0.59382634 0.64922565]]\n",
      "[1. 0.] [[0.59520084 0.64952533]]\n",
      "[1. 0.] [[0.59580107 0.64986919]]\n",
      "[1. 0.] [[0.59613402 0.65011183]]\n",
      "[1. 0.] [[0.59459466 0.64965754]]\n"
     ]
    }
   ],
   "source": [
    "# Network size\n",
    "N_input = 5\n",
    "N_hidden1 = 4\n",
    "N_hidden2 = 3\n",
    "N_output = 2\n",
    "\n",
    "# Allows the same numbers to appear every time even when the values are reset\n",
    "np.random.seed(51)\n",
    "\n",
    "# Weights and Bias Initialization - first guess\n",
    "\n",
    "# Calculate the input to the hidden layer 1 by multiplying neuron weights in hidden layer 1 by neuron weights in input \n",
    "weights_in_hidden1 = np.random.rand(N_input,N_hidden1)\n",
    "# Calculate bias 1 of hidden layer 1\n",
    "bias1 = np.random.rand(N_hidden1,1)\n",
    "\n",
    "# Calculate the hidden layer 1 to the hidden layer 2 by multiplying neuron weights in hidden layer 2 by neuron weights in hidden layer 1  \n",
    "weights_in_hidden2 = np.random.rand(N_hidden1,N_hidden2)\n",
    "# Calculate bias 2 of hidden layer 2 \n",
    "bias2 = np.random.rand(N_hidden2,1)\n",
    "\n",
    "# Calculate the hidden layer 2 to the output layer by multiplying neuron weights from output by neuron weights in hidden layer 2\n",
    "weights_in_out = np.random.rand(N_hidden2,N_output)\n",
    "# Calculate the bias to output of the network\n",
    "bias_out = np.random.rand(N_output,1)\n",
    "\n",
    "## Set up training data\n",
    "## Each row is a case\n",
    "## Columns 0-4 are features\n",
    "## Columns 5 & 6 are targets\n",
    "\n",
    "features_and_targets = np.array( \n",
    "                                   [ [0, 0, 0, 0, 0, 0, 1],\n",
    "                                     [0, 0, 0, 0, 1, 0, 1],\n",
    "                                     [0, 0, 0, 1, 1, 0, 1],\n",
    "                                     [0, 0, 1, 1, 1, 0, 1],\n",
    "                                     [0, 1, 1, 1, 1, 0, 1],\n",
    "                                     [1, 1, 1, 1, 0, 0, 1],\n",
    "                                     [1, 1, 1, 0, 0, 0, 1],\n",
    "                                     [1, 1, 0, 0, 0, 0, 1],\n",
    "                                     [1, 0, 0, 0, 0, 0, 1],\n",
    "                                     [1, 0, 0, 1, 0, 0, 1],\n",
    "                                     [1, 0, 1, 1, 0, 0, 1],\n",
    "                                     [1, 1, 0, 1, 0, 0, 1],\n",
    "                                     [0, 1, 0, 1, 1, 0, 1],\n",
    "                                     [0, 0, 1, 0, 1, 0, 1],\n",
    "                                     [1, 0, 1, 1, 1, 1, 0],\n",
    "                                     [1, 1, 0, 1, 1, 1, 0],\n",
    "                                     [1, 0, 1, 0, 1, 1, 0],\n",
    "                                     [1, 0, 0, 0, 1, 1, 0],\n",
    "                                     [1, 1, 0, 0, 1, 1, 0],\n",
    "                                     [1, 1, 1, 0, 1, 1, 0],\n",
    "                                     [1, 1, 1, 1, 1, 1, 0],\n",
    "                                     [1, 0, 0, 1, 1, 1, 0]  ]\n",
    "                           , dtype=float)\n",
    "\n",
    "# shuffle our cases\n",
    "#np.random.shuffle(features_and_targets)\n",
    "learning_rate = 0.001\n",
    "number_of_epochs = 1000 #For NN epochs is equivalent to interations\n",
    "\n",
    "# To produce a function to compute the slope \n",
    "dloss_by_dw1 = grad(loss,2)\n",
    "dloss_by_db1 = grad(loss,3)\n",
    "dloss_by_dw2 = grad(loss,4)\n",
    "dloss_by_db2 = grad(loss,5)\n",
    "dloss_by_dw3 = grad(loss,6)\n",
    "dloss_by_db3 = grad(loss,7)\n",
    "#print(grad(loss,2))    \n",
    "losses = []\n",
    "\n",
    "for iteration in range(number_of_epochs):\n",
    "    \n",
    "    for i in range(22):\n",
    "        # 22 feature observations \n",
    "        features = features_and_targets[i,0:5]\n",
    "        # 22 target observations\n",
    "        targets_observed = features_and_targets[i,5:7]\n",
    "    \n",
    "        #print( FF(features,weights_in_hidden1,bias1,weights_in_hidden2,bias2,weights_in_out,bias_out) )\n",
    "        \n",
    "        # The assignment operator, -=, subtracts the variable to the left from the equation on right    \n",
    "        weights_in_hidden1 -= learning_rate * dloss_by_dw1(features,targets_observed,weights_in_hidden1,bias1,weights_in_hidden2,bias2,weights_in_out,bias_out)\n",
    "        bias1 -= learning_rate * dloss_by_db1(features,targets_observed,weights_in_hidden1,bias1,weights_in_hidden2,bias2,weights_in_out,bias_out)\n",
    "        weights_in_hidden2 -= learning_rate * dloss_by_dw2(features,targets_observed,weights_in_hidden1,bias1,weights_in_hidden2,bias2,weights_in_out,bias_out)\n",
    "        bias2 -= learning_rate * dloss_by_db2(features,targets_observed,weights_in_hidden1,bias1,weights_in_hidden2,bias2,weights_in_out,bias_out)        \n",
    "        weights_in_out -= learning_rate * dloss_by_dw3(features,targets_observed,weights_in_hidden1,bias1,weights_in_hidden2,bias2,weights_in_out,bias_out)\n",
    "        bias_out -= learning_rate * dloss_by_db3(features,targets_observed,weights_in_hidden1,bias1,weights_in_hidden2,bias2,weights_in_out,bias_out)\n",
    "        \n",
    "        c=losses.append(loss(features,targets_observed,weights_in_hidden1,bias1,weights_in_hidden2,bias2,weights_in_out,bias_out))\n",
    "        #print(c)\n",
    "        #print(loss(features,targets_observed,weights_in_hidden1,bias1,weights_in_hidden2,bias2,weights_in_out,bias_out))\n",
    "       \n",
    "\n",
    "\n",
    "#plt.semilogy(losses)\n",
    "#plt.show()\n",
    "#plt.text(0,.05,'text')\n",
    "\n",
    "for i in range(22):\n",
    "    features = features_and_targets[i,0:5]\n",
    "    # 22 target observations\n",
    "    targets_observed = features_and_targets[i,5:7]    \n",
    "    print( targets_observed, FF(features,weights_in_hidden1,bias1,weights_in_hidden2,bias2,weights_in_out,bias_out) )"
   ]
  },
  {
   "cell_type": "code",
   "execution_count": 4,
   "metadata": {},
   "outputs": [
    {
     "data": {
      "image/png": "[encoded data removed]",
      "text/plain": [
       "<Figure size 432x288 with 1 Axes>"
      ]
     },
     "metadata": {},
     "output_type": "display_data"
    }
   ],
   "source": [
    "plt.semilogy(losses) # make a plot with log scale on the y axis\n",
    "plt.text(2000,3,'The NNs ability performance at learning rate 0.001') # Add text on plot\n",
    "plt.xlabel('Number of epochs') # Add label name\n",
    "plt.title('Learning Curve using Sigmoid Activation Function ') # Add title name\n",
    "plt.ylabel('Loss value') # Add label name\n",
    "plt.show() # Plot graph"
   ]
  },
  {
   "cell_type": "code",
   "execution_count": 5,
   "metadata": {},
   "outputs": [
    {
     "data": {
      "text/plain": [
       "<Figure size 432x288 with 0 Axes>"
      ]
     },
     "metadata": {},
     "output_type": "display_data"
    }
   ],
   "source": [
    "plt.savefig('lr001a.png')# Save figure"
   ]
  },
  {
   "cell_type": "markdown",
   "metadata": {},
   "source": [
    "Figure 1 - At a learning rate of 0.001, the performance of the network shows it is not as efficient as ReLU in predicting targets. The parameters were about the same with a value of .6. "
   ]
  },
  {
   "cell_type": "markdown",
   "metadata": {},
   "source": [
    "Rerun alorithm with same learning rate and additional epochs to see if sigmoid function can perform better with additional epochs."
   ]
  },
  {
   "cell_type": "code",
   "execution_count": 6,
   "metadata": {},
   "outputs": [
    {
     "name": "stdout",
     "output_type": "stream",
     "text": [
      "[0. 1.] [[0.58989493 0.64953804]]\n",
      "[0. 1.] [[0.59164103 0.64939447]]\n",
      "[0. 1.] [[0.59318668 0.64954459]]\n",
      "[0. 1.] [[0.59469126 0.6495269 ]]\n",
      "[0. 1.] [[0.59608196 0.64938013]]\n",
      "[0. 1.] [[0.59641969 0.64944179]]\n",
      "[0. 1.] [[0.595719   0.64935896]]\n",
      "[0. 1.] [[0.59456202 0.64927513]]\n",
      "[0. 1.] [[0.59211643 0.64960831]]\n",
      "[0. 1.] [[0.5935846  0.64968087]]\n",
      "[0. 1.] [[0.59502989 0.64961028]]\n",
      "[0. 1.] [[0.59556718 0.64941106]]\n",
      "[0. 1.] [[0.59515828 0.64930507]]\n",
      "[0. 1.] [[0.59359644 0.64942042]]\n",
      "[1. 0.] [[0.59582756 0.64955036]]\n",
      "[1. 0.] [[0.59625959 0.64940546]]\n",
      "[1. 0.] [[0.59503712 0.64950004]]\n",
      "[1. 0.] [[0.59354588 0.64950604]]\n",
      "[1. 0.] [[0.59549989 0.64928444]]\n",
      "[1. 0.] [[0.59639456 0.64936515]]\n",
      "[1. 0.] [[0.59691499 0.64943689]]\n",
      "[1. 0.] [[0.59468933 0.64959005]]\n"
     ]
    }
   ],
   "source": [
    "# Network size\n",
    "N_input = 5\n",
    "N_hidden1 = 4\n",
    "N_hidden2 = 3\n",
    "N_output = 2\n",
    "\n",
    "# Allows the same numbers to appear every time even when the values are reset\n",
    "np.random.seed(51)\n",
    "\n",
    "# Weights and Bias Initialization - first guess\n",
    "\n",
    "# Calculate the input to the hidden layer 1 by multiplying neuron weights in hidden layer 1 by neuron weights in input \n",
    "weights_in_hidden1 = np.random.rand(N_input,N_hidden1)\n",
    "# Calculate bias 1 of hidden layer 1\n",
    "bias1 = np.random.rand(N_hidden1,1)\n",
    "\n",
    "# Calculate the hidden layer 1 to the hidden layer 2 by multiplying neuron weights in hidden layer 2 by neuron weights in hidden layer 1  \n",
    "weights_in_hidden2 = np.random.rand(N_hidden1,N_hidden2)\n",
    "# Calculate bias 2 of hidden layer 2 \n",
    "bias2 = np.random.rand(N_hidden2,1)\n",
    "\n",
    "# Calculate the hidden layer 2 to the output layer by multiplying neuron weights from output by neuron weights in hidden layer 2\n",
    "weights_in_out = np.random.rand(N_hidden2,N_output)\n",
    "# Calculate the bias to output of the network\n",
    "bias_out = np.random.rand(N_output,1)\n",
    "\n",
    "## Set up training data\n",
    "## Each row is a case\n",
    "## Columns 0-4 are features\n",
    "## Columns 5 & 6 are targets\n",
    "\n",
    "features_and_targets = np.array( \n",
    "                                   [ [0, 0, 0, 0, 0, 0, 1],\n",
    "                                     [0, 0, 0, 0, 1, 0, 1],\n",
    "                                     [0, 0, 0, 1, 1, 0, 1],\n",
    "                                     [0, 0, 1, 1, 1, 0, 1],\n",
    "                                     [0, 1, 1, 1, 1, 0, 1],\n",
    "                                     [1, 1, 1, 1, 0, 0, 1],\n",
    "                                     [1, 1, 1, 0, 0, 0, 1],\n",
    "                                     [1, 1, 0, 0, 0, 0, 1],\n",
    "                                     [1, 0, 0, 0, 0, 0, 1],\n",
    "                                     [1, 0, 0, 1, 0, 0, 1],\n",
    "                                     [1, 0, 1, 1, 0, 0, 1],\n",
    "                                     [1, 1, 0, 1, 0, 0, 1],\n",
    "                                     [0, 1, 0, 1, 1, 0, 1],\n",
    "                                     [0, 0, 1, 0, 1, 0, 1],\n",
    "                                     [1, 0, 1, 1, 1, 1, 0],\n",
    "                                     [1, 1, 0, 1, 1, 1, 0],\n",
    "                                     [1, 0, 1, 0, 1, 1, 0],\n",
    "                                     [1, 0, 0, 0, 1, 1, 0],\n",
    "                                     [1, 1, 0, 0, 1, 1, 0],\n",
    "                                     [1, 1, 1, 0, 1, 1, 0],\n",
    "                                     [1, 1, 1, 1, 1, 1, 0],\n",
    "                                     [1, 0, 0, 1, 1, 1, 0]  ]\n",
    "                           , dtype=float)\n",
    "\n",
    "# shuffle our cases\n",
    "#np.random.shuffle(features_and_targets)\n",
    "learning_rate = 0.001\n",
    "number_of_epochs = 2000 #For NN epochs is equivalent to interations\n",
    "\n",
    "# To produce a function to compute the slope \n",
    "dloss_by_dw1 = grad(loss,2)\n",
    "dloss_by_db1 = grad(loss,3)\n",
    "dloss_by_dw2 = grad(loss,4)\n",
    "dloss_by_db2 = grad(loss,5)\n",
    "dloss_by_dw3 = grad(loss,6)\n",
    "dloss_by_db3 = grad(loss,7)\n",
    "#print(grad(loss,2))    \n",
    "losses = []\n",
    "\n",
    "for iteration in range(number_of_epochs):\n",
    "    \n",
    "    for i in range(22):\n",
    "        # 22 feature observations \n",
    "        features = features_and_targets[i,0:5]\n",
    "        # 22 target observations\n",
    "        targets_observed = features_and_targets[i,5:7]\n",
    "    \n",
    "        #print( FF(features,weights_in_hidden1,bias1,weights_in_hidden2,bias2,weights_in_out,bias_out) )\n",
    "        \n",
    "        # The assignment operator, -=, subtracts the variable to the left from the equation on right    \n",
    "        weights_in_hidden1 -= learning_rate * dloss_by_dw1(features,targets_observed,weights_in_hidden1,bias1,weights_in_hidden2,bias2,weights_in_out,bias_out)\n",
    "        bias1 -= learning_rate * dloss_by_db1(features,targets_observed,weights_in_hidden1,bias1,weights_in_hidden2,bias2,weights_in_out,bias_out)\n",
    "        weights_in_hidden2 -= learning_rate * dloss_by_dw2(features,targets_observed,weights_in_hidden1,bias1,weights_in_hidden2,bias2,weights_in_out,bias_out)\n",
    "        bias2 -= learning_rate * dloss_by_db2(features,targets_observed,weights_in_hidden1,bias1,weights_in_hidden2,bias2,weights_in_out,bias_out)        \n",
    "        weights_in_out -= learning_rate * dloss_by_dw3(features,targets_observed,weights_in_hidden1,bias1,weights_in_hidden2,bias2,weights_in_out,bias_out)\n",
    "        bias_out -= learning_rate * dloss_by_db3(features,targets_observed,weights_in_hidden1,bias1,weights_in_hidden2,bias2,weights_in_out,bias_out)\n",
    "        \n",
    "        c=losses.append(loss(features,targets_observed,weights_in_hidden1,bias1,weights_in_hidden2,bias2,weights_in_out,bias_out))\n",
    "        #print(c)\n",
    "        #print(loss(features,targets_observed,weights_in_hidden1,bias1,weights_in_hidden2,bias2,weights_in_out,bias_out))\n",
    "\n",
    "for i in range(22):\n",
    "    features = features_and_targets[i,0:5]\n",
    "    # 22 target observations\n",
    "    targets_observed = features_and_targets[i,5:7]    \n",
    "    print( targets_observed, FF(features,weights_in_hidden1,bias1,weights_in_hidden2,bias2,weights_in_out,bias_out) )"
   ]
  },
  {
   "cell_type": "code",
   "execution_count": 7,
   "metadata": {},
   "outputs": [
    {
     "data": {
      "image/png": "[encoded data removed]",
      "text/plain": [
       "<Figure size 432x288 with 1 Axes>"
      ]
     },
     "metadata": {},
     "output_type": "display_data"
    }
   ],
   "source": [
    "plt.semilogy(losses) # make a plot with log scale on the y axis\n",
    "plt.text(3000,3,'The NNs performance at learning rate 0.001  ') # Add text on plot\n",
    "plt.xlabel('Number of epochs') # Add label name\n",
    "plt.title('Learning Curve using Sigmoid Activation Function ') # Add title name\n",
    "plt.ylabel('Loss value') # Add label name\n",
    "plt.show() # Plot graph\n",
    "#plt.savefig('lr001b.png') # Save figure"
   ]
  },
  {
   "cell_type": "markdown",
   "metadata": {},
   "source": [
    "Figure 2 - With the same learning rate of 0.001 and double epochs, the network was still not able to improve its efficiency \n",
    "with sigmoid activation. There were no significant changes in the target predictions either due to the no learning."
   ]
  },
  {
   "cell_type": "markdown",
   "metadata": {},
   "source": [
    "Rerun algorithm with same learning rate and even more epochs."
   ]
  },
  {
   "cell_type": "code",
   "execution_count": 8,
   "metadata": {},
   "outputs": [
    {
     "name": "stdout",
     "output_type": "stream",
     "text": [
      "[0. 1.] [[0.42196367 0.77254528]]\n",
      "[0. 1.] [[0.49668464 0.72319612]]\n",
      "[0. 1.] [[0.49449622 0.72606413]]\n",
      "[0. 1.] [[0.49455652 0.72735104]]\n",
      "[0. 1.] [[0.49463487 0.72835984]]\n",
      "[0. 1.] [[0.4944208  0.72819027]]\n",
      "[0. 1.] [[0.49613473 0.72649791]]\n",
      "[0. 1.] [[0.49631682 0.7250814 ]]\n",
      "[0. 1.] [[0.494441   0.72490238]]\n",
      "[0. 1.] [[0.49136879 0.72816124]]\n",
      "[0. 1.] [[0.49213561 0.72874876]]\n",
      "[0. 1.] [[0.49353912 0.72789986]]\n",
      "[0. 1.] [[0.49489904 0.72713266]]\n",
      "[0. 1.] [[0.49532465 0.72601824]]\n",
      "[1. 0.] [[0.73084533 0.50255222]]\n",
      "[1. 0.] [[0.73060423 0.50303555]]\n",
      "[1. 0.] [[0.73192243 0.50084556]]\n",
      "[1. 0.] [[0.73267621 0.49866473]]\n",
      "[1. 0.] [[0.73172472 0.50111379]]\n",
      "[1. 0.] [[0.73017567 0.50394535]]\n",
      "[1. 0.] [[0.73057219 0.50375926]]\n",
      "[1. 0.] [[0.72980958 0.502886  ]]\n"
     ]
    }
   ],
   "source": [
    "# Network size\n",
    "N_input = 5\n",
    "N_hidden1 = 4\n",
    "N_hidden2 = 3\n",
    "N_output = 2\n",
    "\n",
    "np.random.seed(51)\n",
    "\n",
    "# Weights and Bias Initialization - first guess\n",
    "\n",
    "# Calculate the input to the hidden layer 1 by multiplying neuron weights in hidden layer 1 by neuron weights in input \n",
    "weights_in_hidden1 = np.random.rand(N_input,N_hidden1)\n",
    "# Calculate bias 1 of hidden layer 1\n",
    "bias1 = np.random.rand(N_hidden1,1)\n",
    "\n",
    "# Calculate the hidden layer 1 to the hidden layer 2 by multiplying neuron weights in hidden layer 2 by neuron weights in hidden layer 1  \n",
    "weights_in_hidden2 = np.random.rand(N_hidden1,N_hidden2)\n",
    "# Calculate bias 2 of hidden layer 2 \n",
    "bias2 = np.random.rand(N_hidden2,1)\n",
    "\n",
    "# Calculate the hidden layer 2 to the output layer by multiplying neuron weights from output by neuron weights in hidden layer 2\n",
    "weights_in_out = np.random.rand(N_hidden2,N_output)\n",
    "# Calculate the bias to output of the network\n",
    "bias_out = np.random.rand(N_output,1)\n",
    "\n",
    "## Set up training data\n",
    "## Each row is a case\n",
    "## Columns 0-4 are features\n",
    "## Columns 5 & 6 are targets\n",
    "\n",
    "features_and_targets = np.array( \n",
    "                                   [ [0, 0, 0, 0, 0, 0, 1],\n",
    "                                     [0, 0, 0, 0, 1, 0, 1],\n",
    "                                     [0, 0, 0, 1, 1, 0, 1],\n",
    "                                     [0, 0, 1, 1, 1, 0, 1],\n",
    "                                     [0, 1, 1, 1, 1, 0, 1],\n",
    "                                     [1, 1, 1, 1, 0, 0, 1],\n",
    "                                     [1, 1, 1, 0, 0, 0, 1],\n",
    "                                     [1, 1, 0, 0, 0, 0, 1],\n",
    "                                     [1, 0, 0, 0, 0, 0, 1],\n",
    "                                     [1, 0, 0, 1, 0, 0, 1],\n",
    "                                     [1, 0, 1, 1, 0, 0, 1],\n",
    "                                     [1, 1, 0, 1, 0, 0, 1],\n",
    "                                     [0, 1, 0, 1, 1, 0, 1],\n",
    "                                     [0, 0, 1, 0, 1, 0, 1],\n",
    "                                     [1, 0, 1, 1, 1, 1, 0],\n",
    "                                     [1, 1, 0, 1, 1, 1, 0],\n",
    "                                     [1, 0, 1, 0, 1, 1, 0],\n",
    "                                     [1, 0, 0, 0, 1, 1, 0],\n",
    "                                     [1, 1, 0, 0, 1, 1, 0],\n",
    "                                     [1, 1, 1, 0, 1, 1, 0],\n",
    "                                     [1, 1, 1, 1, 1, 1, 0],\n",
    "                                     [1, 0, 0, 1, 1, 1, 0]  ]\n",
    "                           , dtype=float)\n",
    "\n",
    "# shuffle our cases\n",
    "#np.random.shuffle(features_and_targets)\n",
    "learning_rate = 0.001\n",
    "number_of_epochs = 20000\n",
    "\n",
    "dloss_by_dw1 = grad(loss,2)\n",
    "dloss_by_db1 = grad(loss,3)\n",
    "dloss_by_dw2 = grad(loss,4)\n",
    "dloss_by_db2 = grad(loss,5)\n",
    "dloss_by_dw3 = grad(loss,6)\n",
    "dloss_by_db3 = grad(loss,7)\n",
    "\n",
    "losses = []\n",
    "\n",
    "for iteration in range(number_of_epochs):\n",
    "    \n",
    "    for i in range(22):\n",
    "        # 22 feature observations \n",
    "        features = features_and_targets[i,0:5]\n",
    "        # 22 target observations\n",
    "        targets_observed = features_and_targets[i,5:7]\n",
    "    \n",
    "        #print( FF(features,weights_in_hidden1,bias1,weights_in_hidden2,bias2,weights_in_out,bias_out) )\n",
    "    \n",
    "        # The assignment operator, -=, subtracts the variable to the left from the equation on right    \n",
    "        weights_in_hidden1 -= learning_rate * dloss_by_dw1(features,targets_observed,weights_in_hidden1,bias1,weights_in_hidden2,bias2,weights_in_out,bias_out)\n",
    "        bias1 -= learning_rate * dloss_by_db1(features,targets_observed,weights_in_hidden1,bias1,weights_in_hidden2,bias2,weights_in_out,bias_out)\n",
    "        weights_in_hidden2 -= learning_rate * dloss_by_dw2(features,targets_observed,weights_in_hidden1,bias1,weights_in_hidden2,bias2,weights_in_out,bias_out)\n",
    "        bias2 -= learning_rate * dloss_by_db2(features,targets_observed,weights_in_hidden1,bias1,weights_in_hidden2,bias2,weights_in_out,bias_out)        \n",
    "        weights_in_out -= learning_rate * dloss_by_dw3(features,targets_observed,weights_in_hidden1,bias1,weights_in_hidden2,bias2,weights_in_out,bias_out)\n",
    "        bias_out -= learning_rate * dloss_by_db3(features,targets_observed,weights_in_hidden1,bias1,weights_in_hidden2,bias2,weights_in_out,bias_out)\n",
    "        \n",
    "    losses.append(loss(features,targets_observed,weights_in_hidden1,bias1,weights_in_hidden2,bias2,weights_in_out,bias_out))\n",
    "        \n",
    "        #print(loss(features,targets_observed,weights_in_hidden1,bias1,weights_in_hidden2,bias2,weights_in_out,bias_out))\n",
    "\n",
    "\n",
    "for i in range(22):\n",
    "    features = features_and_targets[i,0:5]\n",
    "    # 22 target observations\n",
    "    targets_observed = features_and_targets[i,5:7]    \n",
    "    print( targets_observed, FF(features,weights_in_hidden1,bias1,weights_in_hidden2,bias2,weights_in_out,bias_out) )"
   ]
  },
  {
   "cell_type": "code",
   "execution_count": 9,
   "metadata": {},
   "outputs": [
    {
     "data": {
      "image/png": "[encoded data removed]",
      "text/plain": [
       "<Figure size 432x288 with 1 Axes>"
      ]
     },
     "metadata": {},
     "output_type": "display_data"
    },
    {
     "data": {
      "text/plain": [
       "<Figure size 432x288 with 0 Axes>"
      ]
     },
     "metadata": {},
     "output_type": "display_data"
    }
   ],
   "source": [
    "plt.semilogy(losses) # make a plot with log scale on the y axis\n",
    "plt.text(3000,3,'The NNs performance at learning rate 0.001  ') # Add text on plot\n",
    "plt.xlabel('Number of epochs') # Add label name\n",
    "plt.title('Learning Curve using Sigmoid Activation Function ') # Add title name\n",
    "plt.ylabel('Target Values Observed') # Add label name\n",
    "plt.show() # Plot graph\n",
    "plt.savefig('lr001c.png') # Save figure"
   ]
  },
  {
   "cell_type": "markdown",
   "metadata": {},
   "source": [
    "Figure 3 - With 20K epochs the network was able to improve slightly. After 10K epochs the predicted target values observed  were a little closer to the target values. With more epochs the algorithm is able to find the a better minimun as it moves through the gradient decent. Overall, the sigmoid function is not as good as the reLU activation function in this case. "
   ]
  },
  {
   "cell_type": "code",
   "execution_count": null,
   "metadata": {},
   "outputs": [],
   "source": []
  }
 ],
 "metadata": {
  "kernelspec": {
   "display_name": "Python 3",
   "language": "python",
   "name": "python3"
  },
  "language_info": {
   "codemirror_mode": {
    "name": "ipython",
    "version": 3
   },
   "file_extension": ".py",
   "mimetype": "text/x-python",
   "name": "python",
   "nbconvert_exporter": "python",
   "pygments_lexer": "ipython3",
   "version": "3.6.8"
  }
 },
 "nbformat": 4,
 "nbformat_minor": 2
}
